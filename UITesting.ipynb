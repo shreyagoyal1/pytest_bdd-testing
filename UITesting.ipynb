{
 "cells": [
  {
   "cell_type": "code",
   "execution_count": 6,
   "metadata": {},
   "outputs": [],
   "source": [
    "import pytest\n",
    "import ipytest\n",
    "ipytest.config(rewrite_asserts=True, magics=True)\n",
    "__file__ = 'UITesting.ipynb'"
   ]
  },
  {
   "cell_type": "code",
   "execution_count": 10,
   "metadata": {},
   "outputs": [],
   "source": [
    "def test_addition():\n",
    "  assert 1 + 1 == 2\n",
    "    "
   ]
  },
  {
   "cell_type": "code",
   "execution_count": 11,
   "metadata": {},
   "outputs": [],
   "source": [
    "def test_subtraction():\n",
    "  diff = 1 - 1\n",
    "  assert diff == 1"
   ]
  },
  {
   "cell_type": "code",
   "execution_count": 12,
   "metadata": {},
   "outputs": [
    {
     "name": "stdout",
     "output_type": "stream",
     "text": [
      ".F                                                                       [100%]\n",
      "=================================== FAILURES ===================================\n",
      "_______________________________ test_subtraction _______________________________\n",
      "\n",
      "    def test_subtraction():\n",
      "      diff = 1 - 1\n",
      ">     assert diff == 1\n",
      "E     assert 0 == 1\n",
      "\n",
      "<ipython-input-11-439b8494020a>:3: AssertionError\n"
     ]
    }
   ],
   "source": [
    "ipytest.run('-qq')"
   ]
  },
  {
   "cell_type": "code",
   "execution_count": 13,
   "metadata": {},
   "outputs": [],
   "source": [
    "@pytest.mark.parametrize(\"a,b,expected\", [(0, 5, 0), (1, 5, 5), (2, 5, 10), (-3, 5, -15), (-4, -5, 20)])\n",
    "def test_multiplication(a, b, expected):\n",
    "  assert a * b == expected"
   ]
  },
  {
   "cell_type": "code",
   "execution_count": 14,
   "metadata": {},
   "outputs": [],
   "source": [
    "def test_divide_by_zero():\n",
    "  with pytest.raises(ZeroDivisionError):\n",
    "    1 / 0"
   ]
  },
  {
   "cell_type": "code",
   "execution_count": 16,
   "metadata": {},
   "outputs": [
    {
     "name": "stdout",
     "output_type": "stream",
     "text": [
      "============================= test session starts ==============================\n",
      "platform linux -- Python 3.6.8, pytest-5.1.3, py-1.8.0, pluggy-0.13.0\n",
      "rootdir: /home/jupyter-shregoya\n",
      "plugins: bdd-3.2.1\n",
      "collected 8 items\n",
      "\n",
      "UITesting.py .F......                                                    [100%]\n",
      "\n",
      "=================================== FAILURES ===================================\n",
      "_______________________________ test_subtraction _______________________________\n",
      "\n",
      "    def test_subtraction():\n",
      "      diff = 1 - 1\n",
      ">     assert diff == 1\n",
      "E     assert 0 == 1\n",
      "\n",
      "<ipython-input-11-439b8494020a>:3: AssertionError\n",
      "========================= 1 failed, 7 passed in 0.03s ==========================\n"
     ]
    }
   ],
   "source": [
    "ipytest.run()"
   ]
  },
  {
   "cell_type": "code",
   "execution_count": null,
   "metadata": {},
   "outputs": [],
   "source": []
  }
 ],
 "metadata": {
  "kernelspec": {
   "display_name": "Python 3",
   "language": "python",
   "name": "python3"
  },
  "language_info": {
   "codemirror_mode": {
    "name": "ipython",
    "version": 3
   },
   "file_extension": ".py",
   "mimetype": "text/x-python",
   "name": "python",
   "nbconvert_exporter": "python",
   "pygments_lexer": "ipython3",
   "version": "3.6.8"
  }
 },
 "nbformat": 4,
 "nbformat_minor": 2
}
